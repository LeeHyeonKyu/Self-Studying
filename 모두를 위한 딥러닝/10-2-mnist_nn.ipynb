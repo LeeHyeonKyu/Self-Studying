{
 "cells": [
  {
   "cell_type": "code",
   "execution_count": 1,
   "metadata": {},
   "outputs": [],
   "source": [
    "import numpy as np\n",
    "import random\n",
    "import tensorflow as tf"
   ]
  },
  {
   "cell_type": "code",
   "execution_count": 2,
   "metadata": {},
   "outputs": [],
   "source": [
    "random.seed(777)  # for reproducibility\n",
    "learning_rate = 0.001\n",
    "batch_size = 100\n",
    "training_epochs = 15\n",
    "nb_classes = 10"
   ]
  },
  {
   "cell_type": "code",
   "execution_count": 3,
   "metadata": {},
   "outputs": [
    {
     "name": "stdout",
     "output_type": "stream",
     "text": [
      "(60000, 28, 28)\n"
     ]
    }
   ],
   "source": [
    "(x_train, y_train), (x_test2, y_test) = tf.keras.datasets.mnist.load_data()\n",
    "print(x_train.shape)"
   ]
  },
  {
   "cell_type": "code",
   "execution_count": 4,
   "metadata": {},
   "outputs": [],
   "source": [
    "x_train = x_train.reshape(x_train.shape[0], 28 * 28)\n",
    "x_test = x_test2.reshape(x_test2.shape[0], 28 * 28)"
   ]
  },
  {
   "cell_type": "code",
   "execution_count": 5,
   "metadata": {},
   "outputs": [],
   "source": [
    "y_train = tf.keras.utils.to_categorical(y_train, nb_classes)\n",
    "y_test = tf.keras.utils.to_categorical(y_test, nb_classes)"
   ]
  },
  {
   "cell_type": "code",
   "execution_count": 6,
   "metadata": {},
   "outputs": [
    {
     "name": "stdout",
     "output_type": "stream",
     "text": [
      "Model: \"sequential\"\n",
      "_________________________________________________________________\n",
      "Layer (type)                 Output Shape              Param #   \n",
      "=================================================================\n",
      "dense (Dense)                (None, 256)               200960    \n",
      "_________________________________________________________________\n",
      "dense_1 (Dense)              (None, 256)               65792     \n",
      "_________________________________________________________________\n",
      "dense_2 (Dense)              (None, 10)                2570      \n",
      "=================================================================\n",
      "Total params: 269,322\n",
      "Trainable params: 269,322\n",
      "Non-trainable params: 0\n",
      "_________________________________________________________________\n"
     ]
    }
   ],
   "source": [
    "tf.model = tf.keras.Sequential()\n",
    "tf.model.add(tf.keras.layers.Dense(input_dim=784, units=256, activation='relu'))\n",
    "tf.model.add(tf.keras.layers.Dense(units=256, activation='relu'))\n",
    "tf.model.add(tf.keras.layers.Dense(units=nb_classes, activation='softmax'))\n",
    "tf.model.compile(loss='categorical_crossentropy',\n",
    "                 optimizer=tf.keras.optimizers.Adam(lr=learning_rate), metrics=['accuracy'])\n",
    "tf.model.summary()"
   ]
  },
  {
   "cell_type": "code",
   "execution_count": 7,
   "metadata": {
    "scrolled": true
   },
   "outputs": [
    {
     "name": "stdout",
     "output_type": "stream",
     "text": [
      "Epoch 1/15\n",
      "600/600 [==============================] - 2s 4ms/step - loss: 2.4986 - accuracy: 0.8896\n",
      "Epoch 2/15\n",
      "600/600 [==============================] - 2s 4ms/step - loss: 0.4215 - accuracy: 0.9429\n",
      "Epoch 3/15\n",
      "600/600 [==============================] - 2s 4ms/step - loss: 0.2476 - accuracy: 0.9589\n",
      "Epoch 4/15\n",
      "600/600 [==============================] - 2s 4ms/step - loss: 0.2044 - accuracy: 0.9635\n",
      "Epoch 5/15\n",
      "600/600 [==============================] - 2s 4ms/step - loss: 0.1822 - accuracy: 0.9668\n",
      "Epoch 6/15\n",
      "600/600 [==============================] - 2s 4ms/step - loss: 0.1340 - accuracy: 0.9725\n",
      "Epoch 7/15\n",
      "600/600 [==============================] - 2s 4ms/step - loss: 0.1174 - accuracy: 0.9751\n",
      "Epoch 8/15\n",
      "600/600 [==============================] - 2s 4ms/step - loss: 0.1132 - accuracy: 0.9757\n",
      "Epoch 9/15\n",
      "600/600 [==============================] - 2s 4ms/step - loss: 0.0806 - accuracy: 0.9807\n",
      "Epoch 10/15\n",
      "600/600 [==============================] - 2s 4ms/step - loss: 0.0980 - accuracy: 0.9770\n",
      "Epoch 11/15\n",
      "600/600 [==============================] - 2s 4ms/step - loss: 0.0890 - accuracy: 0.9790\n",
      "Epoch 12/15\n",
      "600/600 [==============================] - 2s 4ms/step - loss: 0.0796 - accuracy: 0.9801\n",
      "Epoch 13/15\n",
      "600/600 [==============================] - 2s 4ms/step - loss: 0.0741 - accuracy: 0.9815\n",
      "Epoch 14/15\n",
      "600/600 [==============================] - 2s 4ms/step - loss: 0.0703 - accuracy: 0.9817\n",
      "Epoch 15/15\n",
      "600/600 [==============================] - 2s 4ms/step - loss: 0.0751 - accuracy: 0.9815\n"
     ]
    },
    {
     "data": {
      "text/plain": [
       "<tensorflow.python.keras.callbacks.History at 0x7faee1cb2710>"
      ]
     },
     "execution_count": 7,
     "metadata": {},
     "output_type": "execute_result"
    }
   ],
   "source": [
    "tf.model.fit(x_train, y_train, batch_size=batch_size, epochs=training_epochs)"
   ]
  },
  {
   "cell_type": "code",
   "execution_count": 8,
   "metadata": {},
   "outputs": [
    {
     "name": "stdout",
     "output_type": "stream",
     "text": [
      "index:  3757 actual y:  8 predicted y:  8\n",
      "index:  7304 actual y:  5 predicted y:  5\n",
      "index:  7300 actual y:  7 predicted y:  7\n",
      "index:  6039 actual y:  9 predicted y:  9\n",
      "index:  9429 actual y:  3 predicted y:  3\n",
      "index:  4420 actual y:  5 predicted y:  5\n",
      "index:  5507 actual y:  2 predicted y:  2\n",
      "index:  8809 actual y:  1 predicted y:  1\n",
      "index:  654 actual y:  5 predicted y:  5\n",
      "index:  7302 actual y:  8 predicted y:  8\n"
     ]
    }
   ],
   "source": [
    "# predict 10 random hand-writing data\n",
    "y_predicted = tf.model.predict(x_test)\n",
    "for x in range(0, 10):\n",
    "    random_index = random.randint(0, x_test.shape[0]-1)\n",
    "    print(\"index: \", random_index,\n",
    "          \"actual y: \", np.argmax(y_test[random_index]),\n",
    "          \"predicted y: \", np.argmax(y_predicted[random_index]))"
   ]
  },
  {
   "cell_type": "code",
   "execution_count": 9,
   "metadata": {},
   "outputs": [
    {
     "name": "stdout",
     "output_type": "stream",
     "text": [
      "313/313 [==============================] - 0s 1ms/step - loss: 0.1745 - accuracy: 0.9683\n",
      "loss:  0.17451345920562744\n",
      "accuracy 0.9682999849319458\n"
     ]
    }
   ],
   "source": [
    "# evaluate test set\n",
    "evaluation = tf.model.evaluate(x_test, y_test)\n",
    "print('loss: ', evaluation[0])\n",
    "print('accuracy', evaluation[1])"
   ]
  }
 ],
 "metadata": {
  "kernelspec": {
   "display_name": "Python 3",
   "language": "python",
   "name": "python3"
  },
  "language_info": {
   "codemirror_mode": {
    "name": "ipython",
    "version": 3
   },
   "file_extension": ".py",
   "mimetype": "text/x-python",
   "name": "python",
   "nbconvert_exporter": "python",
   "pygments_lexer": "ipython3",
   "version": "3.6.9"
  }
 },
 "nbformat": 4,
 "nbformat_minor": 4
}
