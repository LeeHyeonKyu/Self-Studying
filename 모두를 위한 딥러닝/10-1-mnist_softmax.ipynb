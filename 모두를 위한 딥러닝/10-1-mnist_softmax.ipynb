{
 "cells": [
  {
   "cell_type": "code",
   "execution_count": 1,
   "metadata": {},
   "outputs": [],
   "source": [
    "import tensorflow as tf"
   ]
  },
  {
   "cell_type": "code",
   "execution_count": 2,
   "metadata": {},
   "outputs": [],
   "source": [
    "mnist = tf.keras.datasets.mnist"
   ]
  },
  {
   "cell_type": "code",
   "execution_count": 3,
   "metadata": {},
   "outputs": [
    {
     "name": "stdout",
     "output_type": "stream",
     "text": [
      "Downloading data from https://storage.googleapis.com/tensorflow/tf-keras-datasets/mnist.npz\n",
      "11493376/11490434 [==============================] - 0s 0us/step\n"
     ]
    }
   ],
   "source": [
    "(x_train, y_train), (x_test, y_test) = mnist.load_data()\n",
    "# normalizing data\n",
    "x_train, x_test = x_train / 255.0, x_test / 255.0"
   ]
  },
  {
   "cell_type": "code",
   "execution_count": 4,
   "metadata": {},
   "outputs": [
    {
     "name": "stdout",
     "output_type": "stream",
     "text": [
      "(60000, 28, 28)\n"
     ]
    }
   ],
   "source": [
    "# change data shape\n",
    "print(x_train.shape)  # (60000, 28, 28)"
   ]
  },
  {
   "cell_type": "code",
   "execution_count": 5,
   "metadata": {},
   "outputs": [],
   "source": [
    "x_train = x_train.reshape(x_train.shape[0], x_train.shape[1] * x_train.shape[2])\n",
    "x_test = x_test.reshape(x_test.shape[0], x_test.shape[1] * x_test.shape[2])"
   ]
  },
  {
   "cell_type": "code",
   "execution_count": 6,
   "metadata": {},
   "outputs": [],
   "source": [
    "# change result to one-hot encoding\n",
    "# in tf1, one_hot= True in read_data_sets(\"MNIST_data/\", one_hot=True)\n",
    "# took care of it, but here we need to manually convert them\n",
    "y_train = tf.keras.utils.to_categorical(y_train, 10)\n",
    "y_test = tf.keras.utils.to_categorical(y_test, 10)\n",
    "# # Consider an array of 5 labels out of a set of 3 classes {0, 1, 2}:\n",
    "# array([0, 2, 1, 2, 0])\n",
    "# `to_categorical` converts this into a matrix with as many columns as there are classes. The number of rows\n",
    "#  stays the same. to_categorical(labels)\n",
    "# array([[ 1.,  0.,  0.],\n",
    "#        [ 0.,  0.,  1.],\n",
    "#        [ 0.,  1.,  0.],\n",
    "#        [ 0.,  0.,  1.],\n",
    "#        [ 1.,  0.,  0.]], dtype=float32)"
   ]
  },
  {
   "cell_type": "code",
   "execution_count": 7,
   "metadata": {},
   "outputs": [],
   "source": [
    "learning_rate = 0.001\n",
    "batch_size = 100\n",
    "training_epochs = 15\n",
    "nb_classes = 10"
   ]
  },
  {
   "cell_type": "code",
   "execution_count": 8,
   "metadata": {},
   "outputs": [
    {
     "name": "stdout",
     "output_type": "stream",
     "text": [
      "Model: \"sequential\"\n",
      "_________________________________________________________________\n",
      "Layer (type)                 Output Shape              Param #   \n",
      "=================================================================\n",
      "dense (Dense)                (None, 10)                7850      \n",
      "=================================================================\n",
      "Total params: 7,850\n",
      "Trainable params: 7,850\n",
      "Non-trainable params: 0\n",
      "_________________________________________________________________\n"
     ]
    }
   ],
   "source": [
    "tf.model = tf.keras.Sequential()\n",
    "tf.model.add(tf.keras.layers.Dense(units=10, input_dim=784, activation='softmax'))\n",
    "tf.model.compile(loss='categorical_crossentropy', optimizer=tf.optimizers.Adam(0.001), metrics=['accuracy'])\n",
    "tf.model.summary()"
   ]
  },
  {
   "cell_type": "code",
   "execution_count": 9,
   "metadata": {
    "scrolled": true
   },
   "outputs": [
    {
     "name": "stdout",
     "output_type": "stream",
     "text": [
      "Epoch 1/15\n",
      "600/600 [==============================] - 1s 1ms/step - loss: 0.6247 - accuracy: 0.8413\n",
      "Epoch 2/15\n",
      "600/600 [==============================] - 1s 1ms/step - loss: 0.3467 - accuracy: 0.9055\n",
      "Epoch 3/15\n",
      "600/600 [==============================] - 1s 1ms/step - loss: 0.3095 - accuracy: 0.9139\n",
      "Epoch 4/15\n",
      "600/600 [==============================] - 1s 1ms/step - loss: 0.2923 - accuracy: 0.9186\n",
      "Epoch 5/15\n",
      "600/600 [==============================] - 1s 1ms/step - loss: 0.2820 - accuracy: 0.9214\n",
      "Epoch 6/15\n",
      "600/600 [==============================] - 1s 1ms/step - loss: 0.2749 - accuracy: 0.9225\n",
      "Epoch 7/15\n",
      "600/600 [==============================] - 1s 1ms/step - loss: 0.2699 - accuracy: 0.9248\n",
      "Epoch 8/15\n",
      "600/600 [==============================] - 1s 2ms/step - loss: 0.2655 - accuracy: 0.9258\n",
      "Epoch 9/15\n",
      "600/600 [==============================] - 1s 1ms/step - loss: 0.2622 - accuracy: 0.9268\n",
      "Epoch 10/15\n",
      "600/600 [==============================] - 1s 1ms/step - loss: 0.2591 - accuracy: 0.9273\n",
      "Epoch 11/15\n",
      "600/600 [==============================] - 1s 1ms/step - loss: 0.2569 - accuracy: 0.9291\n",
      "Epoch 12/15\n",
      "600/600 [==============================] - 1s 1ms/step - loss: 0.2547 - accuracy: 0.9295\n",
      "Epoch 13/15\n",
      "600/600 [==============================] - 1s 1ms/step - loss: 0.2530 - accuracy: 0.9301\n",
      "Epoch 14/15\n",
      "600/600 [==============================] - 1s 1ms/step - loss: 0.2515 - accuracy: 0.9308\n",
      "Epoch 15/15\n",
      "600/600 [==============================] - 1s 1ms/step - loss: 0.2499 - accuracy: 0.9306\n"
     ]
    }
   ],
   "source": [
    "history = tf.model.fit(x_train, y_train, batch_size=batch_size, epochs=training_epochs)"
   ]
  },
  {
   "cell_type": "code",
   "execution_count": 10,
   "metadata": {},
   "outputs": [
    {
     "name": "stdout",
     "output_type": "stream",
     "text": [
      "Prediction: \n",
      " [[1.7207228e-06 6.9696445e-12 3.5989269e-06 ... 9.9658221e-01\n",
      "  1.2506598e-05 2.3772441e-04]\n",
      " [2.2525458e-04 3.0864674e-06 9.9183464e-01 ... 1.0948193e-17\n",
      "  5.4663102e-05 4.1125638e-14]\n",
      " [1.5885013e-06 9.7645193e-01 1.4358320e-02 ... 8.6372736e-04\n",
      "  3.8013177e-03 2.7151819e-04]\n",
      " ...\n",
      " [1.2964316e-08 9.7446673e-09 4.7728345e-06 ... 2.0267840e-03\n",
      "  9.1692843e-03 1.8631756e-02]\n",
      " [1.5685336e-07 2.8841356e-07 2.3297024e-07 ... 1.2162849e-07\n",
      "  8.1382999e-03 1.2943866e-07]\n",
      " [1.1708154e-06 3.5692339e-14 5.4828619e-05 ... 7.6145215e-13\n",
      "  4.2636131e-08 3.3213682e-11]]\n"
     ]
    }
   ],
   "source": [
    "predictions = tf.model.predict(x_test)\n",
    "print('Prediction: \\n', predictions)"
   ]
  },
  {
   "cell_type": "code",
   "execution_count": 11,
   "metadata": {},
   "outputs": [
    {
     "name": "stdout",
     "output_type": "stream",
     "text": [
      "1875/1875 [==============================] - 1s 725us/step - loss: 0.2443 - accuracy: 0.93300s - loss: 0.2494 - accuracy\n",
      "Accuracy:  0.9330000281333923\n"
     ]
    }
   ],
   "source": [
    "score = tf.model.evaluate(x_train, y_train)\n",
    "print('Accuracy: ', score[1])"
   ]
  }
 ],
 "metadata": {
  "kernelspec": {
   "display_name": "Python 3",
   "language": "python",
   "name": "python3"
  },
  "language_info": {
   "codemirror_mode": {
    "name": "ipython",
    "version": 3
   },
   "file_extension": ".py",
   "mimetype": "text/x-python",
   "name": "python",
   "nbconvert_exporter": "python",
   "pygments_lexer": "ipython3",
   "version": "3.6.9"
  }
 },
 "nbformat": 4,
 "nbformat_minor": 4
}
